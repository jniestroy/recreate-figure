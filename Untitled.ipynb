{
 "cells": [
  {
   "cell_type": "code",
   "execution_count": 1,
   "metadata": {},
   "outputs": [],
   "source": [
    "import cwltool"
   ]
  },
  {
   "cell_type": "code",
   "execution_count": 14,
   "metadata": {},
   "outputs": [
    {
     "name": "stderr",
     "output_type": "stream",
     "text": [
      "Resolved 'create_fig.cwl' to 'file:///Users/justinniestroy-admin/Documents/Work/recreate-figure/create_fig.cwl'\n",
      "[workflow _3] start\n",
      "[workflow _3] starting step cleandata_3\n",
      "[step cleandata_3] start\n",
      "[job cleandata_3] /var/folders/rm/9q6pfp8n2cgg5dnwfyctrmq40000gq/T/v_6s2b9a$ docker \\\n",
      "    run \\\n",
      "    -i \\\n",
      "    --volume=/private/var/folders/rm/9q6pfp8n2cgg5dnwfyctrmq40000gq/T/v_6s2b9a:/sANMki:rw \\\n",
      "    --volume=/private/var/folders/rm/9q6pfp8n2cgg5dnwfyctrmq40000gq/T/u1350mz3:/tmp:rw \\\n",
      "    --volume=/var/folders/rm/9q6pfp8n2cgg5dnwfyctrmq40000gq/T/4_5i0s7u/data:/var/lib/cwl/stgaeffc3c9-2071-45c9-9e98-7349c801e268/sample:ro \\\n",
      "    --workdir=/sANMki \\\n",
      "    --read-only=true \\\n",
      "    --user=503:20 \\\n",
      "    --rm \\\n",
      "    --env=TMPDIR=/tmp \\\n",
      "    --env=HOME=/sANMki \\\n",
      "    jniestroy/recreate-figure \\\n",
      "    /bin/sh \\\n",
      "    -c \\\n",
      "    'data_cleaning.py' '/var/lib/cwl/stgaeffc3c9-2071-45c9-9e98-7349c801e268/sample'\n",
      "Exception while running job\n",
      "Traceback (most recent call last):\n",
      "  File \"/usr/local/lib/python3.7/site-packages/cwltool/job.py\", line 320, in _execute\n",
      "    monitor_function=monitor_function\n",
      "  File \"/usr/local/lib/python3.7/site-packages/cwltool/job.py\", line 778, in _job_popen\n",
      "    cwd=cwd)\n",
      "  File \"/usr/local/Cellar/python/3.7.4/Frameworks/Python.framework/Versions/3.7/lib/python3.7/subprocess.py\", line 728, in __init__\n",
      "    errread, errwrite) = self._get_handles(stdin, stdout, stderr)\n",
      "  File \"/usr/local/Cellar/python/3.7.4/Frameworks/Python.framework/Versions/3.7/lib/python3.7/subprocess.py\", line 1359, in _get_handles\n",
      "    c2pwrite = stdout.fileno()\n",
      "io.UnsupportedOperation: fileno\n",
      "[job cleandata_3] completed permanentFail\n",
      "[step cleandata_3] Output is missing expected field file:///Users/justinniestroy-admin/Documents/Work/recreate-figure/create_fig.cwl#cleandata/answer\n",
      "[step cleandata_3] completed permanentFail\n",
      "[workflow _3] completed permanentFail\n"
     ]
    },
    {
     "ename": "WorkflowStatus",
     "evalue": "Completed permanentFail",
     "output_type": "error",
     "traceback": [
      "\u001b[0;31m---------------------------------------------------------------------------\u001b[0m",
      "\u001b[0;31mWorkflowStatus\u001b[0m                            Traceback (most recent call last)",
      "\u001b[0;32m<ipython-input-14-51551dcd320a>\u001b[0m in \u001b[0;36m<module>\u001b[0;34m\u001b[0m\n\u001b[1;32m      6\u001b[0m                           \u001b[0;34m\"path\"\u001b[0m\u001b[0;34m:\u001b[0m\u001b[0;34m\"/Users/justinniestroy-admin/Documents/Work/recreate-figure/sample.csv\"\u001b[0m\u001b[0;34m,\u001b[0m\u001b[0;34m\u001b[0m\u001b[0;34m\u001b[0m\u001b[0m\n\u001b[1;32m      7\u001b[0m                           \u001b[0;34m\"contents\"\u001b[0m\u001b[0;34m:\u001b[0m\u001b[0;34m\"data\"\u001b[0m\u001b[0;34m,\u001b[0m\u001b[0;34m\u001b[0m\u001b[0;34m\u001b[0m\u001b[0m\n\u001b[0;32m----> 8\u001b[0;31m                           \u001b[0;34m\"basename\"\u001b[0m\u001b[0;34m:\u001b[0m\u001b[0;34m\"sample\"\u001b[0m\u001b[0;34m\u001b[0m\u001b[0;34m\u001b[0m\u001b[0m\n\u001b[0m\u001b[1;32m      9\u001b[0m                          })\n\u001b[1;32m     10\u001b[0m \u001b[0mresult\u001b[0m\u001b[0;34m\u001b[0m\u001b[0;34m\u001b[0m\u001b[0m\n",
      "\u001b[0;32m/usr/local/lib/python3.7/site-packages/cwltool/factory.py\u001b[0m in \u001b[0;36m__call__\u001b[0;34m(self, **kwargs)\u001b[0m\n\u001b[1;32m     35\u001b[0m         \u001b[0mout\u001b[0m\u001b[0;34m,\u001b[0m \u001b[0mstatus\u001b[0m \u001b[0;34m=\u001b[0m \u001b[0mself\u001b[0m\u001b[0;34m.\u001b[0m\u001b[0mfactory\u001b[0m\u001b[0;34m.\u001b[0m\u001b[0mexecutor\u001b[0m\u001b[0;34m(\u001b[0m\u001b[0mself\u001b[0m\u001b[0;34m.\u001b[0m\u001b[0mt\u001b[0m\u001b[0;34m,\u001b[0m \u001b[0mkwargs\u001b[0m\u001b[0;34m,\u001b[0m \u001b[0mruntime_context\u001b[0m\u001b[0;34m)\u001b[0m\u001b[0;34m\u001b[0m\u001b[0;34m\u001b[0m\u001b[0m\n\u001b[1;32m     36\u001b[0m         \u001b[0;32mif\u001b[0m \u001b[0mstatus\u001b[0m \u001b[0;34m!=\u001b[0m \u001b[0;34m\"success\"\u001b[0m\u001b[0;34m:\u001b[0m\u001b[0;34m\u001b[0m\u001b[0;34m\u001b[0m\u001b[0m\n\u001b[0;32m---> 37\u001b[0;31m             \u001b[0;32mraise\u001b[0m \u001b[0mWorkflowStatus\u001b[0m\u001b[0;34m(\u001b[0m\u001b[0mout\u001b[0m\u001b[0;34m,\u001b[0m \u001b[0mstatus\u001b[0m\u001b[0;34m)\u001b[0m\u001b[0;34m\u001b[0m\u001b[0;34m\u001b[0m\u001b[0m\n\u001b[0m\u001b[1;32m     38\u001b[0m         \u001b[0;32melse\u001b[0m\u001b[0;34m:\u001b[0m\u001b[0;34m\u001b[0m\u001b[0;34m\u001b[0m\u001b[0m\n\u001b[1;32m     39\u001b[0m             \u001b[0;32mreturn\u001b[0m \u001b[0mout\u001b[0m\u001b[0;34m\u001b[0m\u001b[0;34m\u001b[0m\u001b[0m\n",
      "\u001b[0;31mWorkflowStatus\u001b[0m: Completed permanentFail"
     ]
    }
   ],
   "source": [
    "import cwltool.factory\n",
    "fac = cwltool.factory.Factory()\n",
    "\n",
    "echo = fac.make(\"create_fig.cwl\")\n",
    "result = echo(input_data={\"class\":\"File\",\n",
    "                          \"path\":\"/Users/justinniestroy-admin/Documents/Work/recreate-figure/sample.csv\",\n",
    "                          \"contents\":\"data\",\n",
    "                          \"basename\":\"sample\"\n",
    "                         })\n",
    "result"
   ]
  },
  {
   "cell_type": "code",
   "execution_count": 13,
   "metadata": {},
   "outputs": [
    {
     "data": {
      "text/plain": [
       "256"
      ]
     },
     "execution_count": 13,
     "metadata": {},
     "output_type": "execute_result"
    }
   ],
   "source": [
    "import os\n",
    "cmd = 'cwltool'\n",
    "os.system(cmd)"
   ]
  },
  {
   "cell_type": "code",
   "execution_count": 18,
   "metadata": {},
   "outputs": [
    {
     "data": {
      "text/plain": [
       "'{    \"final_figure\": {        \"location\": \"file:///Users/justinniestroy-admin/Documents/Work/recreate-figure/figure.png\",        \"basename\": \"figure.png\",        \"class\": \"File\",        \"checksum\": \"sha1$8b0171a4a507a3dc1969c5c33065430b1fafb898\",        \"size\": 35143,        \"path\": \"/Users/justinniestroy-admin/Documents/Work/recreate-figure/figure.png\"    }}'"
      ]
     },
     "execution_count": 18,
     "metadata": {},
     "output_type": "execute_result"
    }
   ],
   "source": [
    "import json\n",
    "test = '{\\n    \"final_figure\": {\\n        \"location\": \"file:///Users/justinniestroy-admin/Documents/Work/recreate-figure/figure.png\",\\n        \"basename\": \"figure.png\",\\n        \"class\": \"File\",\\n        \"checksum\": \"sha1$8b0171a4a507a3dc1969c5c33065430b1fafb898\",\\n        \"size\": 35143,\\n        \"path\": \"/Users/justinniestroy-admin/Documents/Work/recreate-figure/figure.png\"\\n    }\\n}'\n",
    "test = test.replace(\"\\n\",\"\")\n",
    "#json.loads(test)\n",
    "test"
   ]
  },
  {
   "cell_type": "code",
   "execution_count": 35,
   "metadata": {},
   "outputs": [
    {
     "data": {
      "text/plain": [
       "'{\"Result\":{\"final_figure\":{\"object_meta\":{\"@context\":{\"base\":\"http://schema.org\",\"wfdesc:\":\"https://wf4ever.github.io/ro/2016-01-28/wfdesc/\"},\"@type\":\"ImageObject\",\"author\":{\"@type\":\"Person\",\"email\":\"jniestroy@gmail.com\",\"id\":\"random:orchid\",\"name\":\"Justin Niestroy\"},\"generated_by\":{\"@type\":\"wfdesc:Wokflow\",\"name\":\"create_fig.cwl\",\"wfdesc:hasInput\":[{\"@type\":\"wfdesc:Parameter\",\"datatype\":\"File\",\"name\":\"input_data\",\"path\":\"/Users/justinniestroy-admin/Documents/Work/recreate-figure/sample.csv\",\"value\":{\"class\":\"File\",\"path\":\"/Users/justinniestroy-admin/Documents/Work/recreate-figure/sample.csv\"}}],\"wfdesc:hasOutput\":[{\"@type\":\"wfdesc:Parameter\",\"datatype\":\"File\",\"name\":\"final_figure\",\"outputSource\":\"create_fig/figure\"}],\"wfdesc:hasProcess\":[{\"@type\":\"wfdesc:Process\",\"commandRun\":[\"data_cleaning.py\"],\"name\":\"cleandata\",\"run\":\"clean_data.cwl\"},{\"@type\":\"wfdesc:Process\",\"commandRun\":[\"create_fig.py\"],\"name\":\"create_fig\",\"run\":\"make_fig.cwl\"}]},\"name\":\"final_figure\",\"path\":\"/Users/justinniestroy-admin/Documents/Work/recreate-figure/figure.png\",\"size\":35143},\"upload\":\"success\"},\"wfprov:WorkflowRun\":{\"@type\":\"wfdesc:Wokflow\",\"name\":\"create_fig.cwl\",\"wfdesc:hasInput\":[{\"@type\":\"wfdesc:Parameter\",\"datatype\":\"File\",\"name\":\"input_data\",\"path\":\"/Users/justinniestroy-admin/Documents/Work/recreate-figure/sample.csv\",\"value\":{\"class\":\"File\",\"path\":\"/Users/justinniestroy-admin/Documents/Work/recreate-figure/sample.csv\"}}],\"wfdesc:hasOutput\":[{\"@type\":\"wfdesc:Parameter\",\"datatype\":\"File\",\"name\":\"final_figure\",\"outputSource\":\"create_fig/figure\"}],\"wfdesc:hasProcess\":[{\"@type\":\"wfdesc:Process\",\"commandRun\":[\"data_cleaning.py\"],\"name\":\"cleandata\",\"run\":\"clean_data.cwl\"},{\"@type\":\"wfdesc:Process\",\"commandRun\":[\"create_fig.py\"],\"name\":\"create_fig\",\"run\":\"make_fig.cwl\"}]}}}\\n'"
      ]
     },
     "execution_count": 35,
     "metadata": {},
     "output_type": "execute_result"
    }
   ],
   "source": [
    "import requests\n",
    "test = {\"workflow\":\"create_fig.cwl\",\"job\":\"fig.yaml\",\"path\":\"/Users/justinniestroy-admin/Documents/Work/recreate-figure/\"}\n",
    "req = requests.post(\"http://localhost:5000/run-wf\",json = test)\n",
    "req.content.decode()\n"
   ]
  },
  {
   "cell_type": "code",
   "execution_count": 10,
   "metadata": {},
   "outputs": [
    {
     "data": {
      "text/plain": [
       "'{\"final_answer\":{\"object_meta\":{\"@context\":{\"base\":\"http://schema.org\",\"wfdesc:\":\"https://wf4ever.github.io/ro/2016-01-28/wfdesc/\"},\"generated_by\":{\"@type\":\"wfdesc:Wokflow\",\"name\":\"test_workflow.cwl\",\"wfdesc:hasInput\":[{\"@type\":\"wfdesc:Parameter\",\"datatype\":\"int\",\"name\":\"num1\",\"value\":4},{\"@type\":\"wfdesc:Parameter\",\"datatype\":\"int\",\"name\":\"num2\",\"value\":7}],\"wfdesc:hasOutput\":[{\"@type\":\"wfdesc:Parameter\",\"datatype\":\"File\",\"name\":\"final_answer\",\"outputSource\":\"multiply/answer\"}],\"wfdesc:hasProcess\":[{\"@type\":\"wfdesc:Process\",\"commandRun\":[\"python3\",\"/Users/justinniestroy-admin/Documents/Work/Randall Data/houlter data/add.py\"],\"name\":\"add\",\"run\":\"add.cwl\"},{\"@type\":\"wfdesc:Process\",\"commandRun\":[\"python3\",\"/Users/justinniestroy-admin/Documents/Work/Randall Data/houlter data/multiply.py\"],\"name\":\"multiply\",\"run\":\"multiply.cwl\"}]},\"name\":\"final_answer\",\"path\":\"/Users/justinniestroy-admin/Documents/Work/cwl_parser/workflows/output_test1.txt\",\"size\":15},\"upload\":\"success\"},\"wfprov:WorkflowRun\":{\"@type\":\"wfdesc:Wokflow\",\"name\":\"test_workflow.cwl\",\"wfdesc:hasInput\":[{\"@type\":\"wfdesc:Parameter\",\"datatype\":\"int\",\"name\":\"num1\",\"value\":4},{\"@type\":\"wfdesc:Parameter\",\"datatype\":\"int\",\"name\":\"num2\",\"value\":7}],\"wfdesc:hasOutput\":[{\"@type\":\"wfdesc:Parameter\",\"datatype\":\"File\",\"name\":\"final_answer\",\"outputSource\":\"multiply/answer\"}],\"wfdesc:hasProcess\":[{\"@type\":\"wfdesc:Process\",\"commandRun\":[\"python3\",\"/Users/justinniestroy-admin/Documents/Work/Randall Data/houlter data/add.py\"],\"name\":\"add\",\"run\":\"add.cwl\"},{\"@type\":\"wfdesc:Process\",\"commandRun\":[\"python3\",\"/Users/justinniestroy-admin/Documents/Work/Randall Data/houlter data/multiply.py\"],\"name\":\"multiply\",\"run\":\"multiply.cwl\"}]}}\\n'"
      ]
     },
     "execution_count": 10,
     "metadata": {},
     "output_type": "execute_result"
    }
   ],
   "source": [
    "import requests\n",
    "test = {\"workflow\":\"test_workflow.cwl\",\"job\":\"test.yaml\",\"path\":\"/Users/justinniestroy-admin/Documents/Work/cwl_parser/workflows/\"}\n",
    "req = requests.post(\"http://localhost:5000/run-wf\",json = test)\n",
    "req.content.decode()"
   ]
  },
  {
   "cell_type": "code",
   "execution_count": null,
   "metadata": {},
   "outputs": [],
   "source": []
  }
 ],
 "metadata": {
  "kernelspec": {
   "display_name": "Python 3",
   "language": "python",
   "name": "python3"
  },
  "language_info": {
   "codemirror_mode": {
    "name": "ipython",
    "version": 3
   },
   "file_extension": ".py",
   "mimetype": "text/x-python",
   "name": "python",
   "nbconvert_exporter": "python",
   "pygments_lexer": "ipython3",
   "version": "3.7.4"
  }
 },
 "nbformat": 4,
 "nbformat_minor": 2
}
